{
 "cells": [
  {
   "cell_type": "code",
   "execution_count": 1,
   "id": "1b726718",
   "metadata": {},
   "outputs": [],
   "source": [
    "# Você recebe uma tabela de corridas do UBER que contém a quilometragem e o objetivo da despesa comercial. Você é solicitado a encontrar objetivos comerciais que gerem o maior número de milhas percorridas para passageiros que usam o Uber para transporte Comercial. Encontre as 3 principais categorias finalidade comercial por quilometragem"
   ]
  },
  {
   "cell_type": "code",
   "execution_count": 2,
   "id": "7b1c7e5d",
   "metadata": {},
   "outputs": [],
   "source": [
    "# Importando as bibliotecas necessárias\n",
    "\n",
    "import pandas as pd\n",
    "# Import pandassql para manipularmos os dados com comandos SQL\n",
    "from pandasql import sqldf\n",
    "# Isso permite executar consultas SQL diretamente sobre DataFrames do Pandas, sem precisar registrar manualmente cada tabela\n",
    "pysqldf = lambda q: sqldf(q, globals())                                                                                                       "
   ]
  },
  {
   "cell_type": "code",
   "execution_count": 3,
   "id": "54e5d3a7",
   "metadata": {},
   "outputs": [],
   "source": [
    "# Importando os dados\n",
    "file = \"C:/Users/felip/Documents/Code/Portforio/Desafio-Processo-Uber/BASE/My Uber Drives - 2016.xls\"\n",
    "df = pd.read_csv(file, sep=',')"
   ]
  },
  {
   "cell_type": "code",
   "execution_count": 4,
   "id": "67636666",
   "metadata": {},
   "outputs": [],
   "source": [
    "# Criação da query\n",
    "query = \"\"\"\n",
    "SELECT PURPOSE, SUM(MILES) AS TOTAL_MILES FROM df\n",
    "WHERE CATEGORY = 'Business'\n",
    "GROUP BY PURPOSE\n",
    "ORDER BY total_miles DESC\n",
    "LIMIT 3;\n",
    "\"\"\""
   ]
  },
  {
   "cell_type": "code",
   "execution_count": 5,
   "id": "dfe25080",
   "metadata": {},
   "outputs": [
    {
     "name": "stdout",
     "output_type": "stream",
     "text": [
      "          PURPOSE  TOTAL_MILES\n",
      "0            None       4389.3\n",
      "1         Meeting       2851.3\n",
      "2  Customer Visit       2089.5\n"
     ]
    }
   ],
   "source": [
    "print(pysqldf(query))"
   ]
  },
  {
   "cell_type": "code",
   "execution_count": null,
   "id": "0830618a",
   "metadata": {},
   "outputs": [],
   "source": []
  }
 ],
 "metadata": {
  "kernelspec": {
   "display_name": "base",
   "language": "python",
   "name": "python3"
  },
  "language_info": {
   "codemirror_mode": {
    "name": "ipython",
    "version": 3
   },
   "file_extension": ".py",
   "mimetype": "text/x-python",
   "name": "python",
   "nbconvert_exporter": "python",
   "pygments_lexer": "ipython3",
   "version": "3.12.7"
  }
 },
 "nbformat": 4,
 "nbformat_minor": 5
}
